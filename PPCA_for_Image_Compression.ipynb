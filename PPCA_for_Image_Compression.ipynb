{
  "nbformat": 4,
  "nbformat_minor": 0,
  "metadata": {
    "colab": {
      "provenance": [],
      "authorship_tag": "ABX9TyPgM8ngzolBwHFVD33X8JS4",
      "include_colab_link": true
    },
    "kernelspec": {
      "name": "python3",
      "display_name": "Python 3"
    },
    "language_info": {
      "name": "python"
    }
  },
  "cells": [
    {
      "cell_type": "markdown",
      "metadata": {
        "id": "view-in-github",
        "colab_type": "text"
      },
      "source": [
        "<a href=\"https://colab.research.google.com/github/Shiyasalloor/Deep_Learning_Lab/blob/main/PPCA_for_Image_Compression.ipynb\" target=\"_parent\"><img src=\"https://colab.research.google.com/assets/colab-badge.svg\" alt=\"Open In Colab\"/></a>"
      ]
    },
    {
      "cell_type": "code",
      "execution_count": 1,
      "metadata": {
        "id": "Laze-rwfP4YG"
      },
      "outputs": [],
      "source": [
        "import numpy as np\n",
        "import matplotlib.pyplot as plt\n",
        "from sklearn.decomposition import PCA\n",
        "from sklearn.datasets import fetch_openml\n",
        "from sklearn.metrics import mean_squared_error\n",
        "from sklearn.preprocessing import StandardScaler"
      ]
    },
    {
      "cell_type": "code",
      "source": [
        "mnist = fetch_openml('mnist_784', version=1, as_frame=False)\n",
        "X = mnist.data.astype(np.float32) / 255.0\n",
        "X = StandardScaler().fit_transform(X)\n",
        "\n",
        "X_train = X[:5000]\n"
      ],
      "metadata": {
        "id": "tWe-cADyQw5c"
      },
      "execution_count": 2,
      "outputs": []
    },
    {
      "cell_type": "code",
      "source": [
        "k = 50  # latent dimensions\n",
        "pca = PCA(n_components=k)\n",
        "Z_pca = pca.fit_transform(X_train)\n",
        "X_recon_pca = pca.inverse_transform(Z_pca)\n"
      ],
      "metadata": {
        "id": "NdAXmNZqQ16L"
      },
      "execution_count": 3,
      "outputs": []
    },
    {
      "cell_type": "code",
      "source": [
        "class PPCA:\n",
        "    def __init__(self, n_components, tol=1e-4, max_iter=100):\n",
        "        self.n_components = n_components\n",
        "        self.tol = tol\n",
        "        self.max_iter = max_iter\n",
        "\n",
        "    def fit(self, X):\n",
        "        N, D = X.shape\n",
        "        k = self.n_components\n",
        "\n",
        "        # Initialize parameters\n",
        "        self.mean_ = np.mean(X, axis=0)\n",
        "        Xc = X - self.mean_\n",
        "        C = np.cov(Xc.T)\n",
        "\n",
        "        # Random init\n",
        "        W = np.random.randn(D, k)\n",
        "        sigma2 = np.random.rand()\n",
        "\n",
        "        for i in range(self.max_iter):\n",
        "            M = W.T @ W + sigma2 * np.eye(k)\n",
        "            M_inv = np.linalg.inv(M)\n",
        "\n",
        "            # E-step\n",
        "            Ez = Xc @ W @ M_inv\n",
        "            Ezz = sigma2 * M_inv + Ez[:,:,None] @ Ez[:,None,:]\n",
        "\n",
        "            # M-step\n",
        "            W_new = (Xc.T @ Ez) @ np.linalg.inv(np.sum(Ezz, axis=0))\n",
        "            sigma2_new = (np.sum(Xc**2) - 2*np.trace((Xc.T @ Ez) @ W_new.T) + np.trace(np.sum(Ezz, axis=0) @ (W_new.T @ W_new))) / (N*D)\n",
        "\n",
        "            # Convergence check\n",
        "            if np.linalg.norm(W_new - W) < self.tol:\n",
        "                break\n",
        "            W, sigma2 = W_new, sigma2_new\n",
        "\n",
        "        self.W, self.sigma2 = W, sigma2\n",
        "        return self\n",
        "\n",
        "    def transform(self, X):\n",
        "        Xc = X - self.mean_\n",
        "        M = self.W.T @ self.W + self.sigma2 * np.eye(self.n_components)\n",
        "        M_inv = np.linalg.inv(M)\n",
        "        return Xc @ self.W @ M_inv\n",
        "\n",
        "    def inverse_transform(self, Z):\n",
        "        return Z @ self.W.T + self.mean_"
      ],
      "metadata": {
        "id": "qmi6yWkzQ9K8"
      },
      "execution_count": 4,
      "outputs": []
    },
    {
      "cell_type": "code",
      "source": [
        "ppca = PPCA(n_components=k, max_iter=50)\n",
        "ppca.fit(X_train)\n",
        "Z_ppca = ppca.transform(X_train)\n",
        "X_recon_ppca = ppca.inverse_transform(Z_ppca)"
      ],
      "metadata": {
        "id": "7qWVaoU5Q__j"
      },
      "execution_count": 5,
      "outputs": []
    },
    {
      "cell_type": "code",
      "source": [
        "mse_pca = mean_squared_error(X_train, X_recon_pca)\n",
        "mse_ppca = mean_squared_error(X_train, X_recon_ppca)\n",
        "\n",
        "print(f\"PCA MSE: {mse_pca:.4f}\")\n",
        "print(f\"PPCA MSE: {mse_ppca:.4f}\")"
      ],
      "metadata": {
        "colab": {
          "base_uri": "https://localhost:8080/"
        },
        "id": "4DbGER6wRDuc",
        "outputId": "3bc3be28-a816-4162-b679-6d4a263b5543"
      },
      "execution_count": 6,
      "outputs": [
        {
          "output_type": "stream",
          "name": "stdout",
          "text": [
            "PCA MSE: 0.3309\n",
            "PPCA MSE: 0.3315\n"
          ]
        }
      ]
    },
    {
      "cell_type": "code",
      "source": [
        "def show_images(original, pca_recon, ppca_recon, n=5):\n",
        "    plt.figure(figsize=(10, 4))\n",
        "    for i in range(n):\n",
        "        # Original\n",
        "        plt.subplot(3, n, i+1)\n",
        "        plt.imshow(original[i].reshape(28, 28), cmap=\"gray\")\n",
        "        plt.axis(\"off\")\n",
        "        if i == 0: plt.ylabel(\"Original\")\n",
        "\n",
        "        # PCA\n",
        "        plt.subplot(3, n, n+i+1)\n",
        "        plt.imshow(pca_recon[i].reshape(28, 28), cmap=\"gray\")\n",
        "        plt.axis(\"off\")\n",
        "        if i == 0: plt.ylabel(\"PCA\")\n",
        "\n",
        "        # PPCA\n",
        "        plt.subplot(3, n, 2*n+i+1)\n",
        "        plt.imshow(ppca_recon[i].reshape(28, 28), cmap=\"gray\")\n",
        "        plt.axis(\"off\")\n",
        "        if i == 0: plt.ylabel(\"PPCA\")\n",
        "\n",
        "    plt.show()\n",
        "\n",
        "show_images(X_train, X_recon_pca, X_recon_ppca, n=5)"
      ],
      "metadata": {
        "colab": {
          "base_uri": "https://localhost:8080/",
          "height": 345
        },
        "id": "Jx1Zq015RGgT",
        "outputId": "931e8b64-39c0-4f88-9754-463e189da959"
      },
      "execution_count": 7,
      "outputs": [
        {
          "output_type": "display_data",
          "data": {
            "text/plain": [
              "<Figure size 1000x400 with 15 Axes>"
            ],
            "image/png": "[encoded data removed]"
          },
          "metadata": {}
        }
      ]
    }
  ]
}